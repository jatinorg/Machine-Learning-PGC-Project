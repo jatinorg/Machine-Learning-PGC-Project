{
 "cells": [
  {
   "cell_type": "markdown",
   "metadata": {},
   "source": [
    "<div style=\"border-radius: 10px; border: #0b0265 solid; background-color: #F0F8FF; font-size: 1.1em; letter-spacing: 0.5px; text-align: center;\">\n",
    "  <h1 style=\"color: #212529; font-weight: bold; font-family: Arial, sans-serif;\">Predictive Salary Modeling for IT Professionals at TechWorks Consulting Using Machine Learning</h1>\n",
    "</div>\n"
   ]
  },
  {
   "cell_type": "markdown",
   "metadata": {},
   "source": [
    "**Problem Statement:**\n",
    "\n",
    "Create a machine learning model to help TechWorks Consulting determine the salary of newly hired employees using the given data.\n",
    "\n",
    "**Description:**\n",
    "\n",
    "TechWorks Consulting is a consulting company specializing in providing top-notch IT talent to various businesses. The company aims to quickly and efficiently match highly skilled IT professionals with the right job opportunities. They have a large database of qualified candidates and a team of experienced recruiters to handle large-scale hiring projects effectively.\n",
    "\n",
    "TechWorks Consulting's success is partly due to offering fair and competitive compensation to its employees. They consider multiple factors, such as experience, qualifications, market rates, and employee performance, to determine salaries. The task is to build a regression model to predict the salary of new employees based on their qualifications, experience, previous CTC, job change history, graduation marks, and other relevant factors."
   ]
  },
  {
   "cell_type": "markdown",
   "metadata": {},
   "source": [
    "*Importing required libraries*"
   ]
  },
  {
   "cell_type": "code",
   "execution_count": 1,
   "metadata": {},
   "outputs": [
    {
     "name": "stderr",
     "output_type": "stream",
     "text": [
      "C:\\Users\\91812\\anaconda3\\lib\\site-packages\\pandas\\core\\computation\\expressions.py:20: UserWarning: Pandas requires version '2.7.3' or newer of 'numexpr' (version '2.7.1' currently installed).\n",
      "  from pandas.core.computation.check import NUMEXPR_INSTALLED\n"
     ]
    }
   ],
   "source": [
    "import pandas as pd\n",
    "from sklearn.model_selection import train_test_split\n",
    "from sklearn.preprocessing import StandardScaler\n",
    "from sklearn.linear_model import LinearRegression\n",
    "from sklearn.metrics import mean_squared_error, r2_score\n",
    "import numpy as np\n",
    "import seaborn as sns\n",
    "from sklearn.linear_model import Ridge\n",
    "import matplotlib.pyplot as plt"
   ]
  },
  {
   "cell_type": "markdown",
   "metadata": {},
   "source": [
    "*Import datasets from the sources*"
   ]
  },
  {
   "cell_type": "code",
   "execution_count": null,
   "metadata": {},
   "outputs": [],
   "source": [
    "df = pd.read_csv(r\"C:\\Internshala\\Python_Project\\Raw_Data\\ML case Study.csv\",header=0)"
   ]
  }
 ],
 "metadata": {
  "kernelspec": {
   "display_name": "Python 3",
   "language": "python",
   "name": "python3"
  },
  "language_info": {
   "codemirror_mode": {
    "name": "ipython",
    "version": 3
   },
   "file_extension": ".py",
   "mimetype": "text/x-python",
   "name": "python",
   "nbconvert_exporter": "python",
   "pygments_lexer": "ipython3",
   "version": "3.8.5"
  }
 },
 "nbformat": 4,
 "nbformat_minor": 4
}
